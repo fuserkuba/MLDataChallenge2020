{
  "nbformat": 4,
  "nbformat_minor": 0,
  "metadata": {
    "kernelspec": {
      "display_name": "Python 3",
      "language": "python",
      "name": "python3"
    },
    "language_info": {
      "codemirror_mode": {
        "name": "ipython",
        "version": 3
      },
      "file_extension": ".py",
      "mimetype": "text/x-python",
      "name": "python",
      "nbconvert_exporter": "python",
      "pygments_lexer": "ipython3",
      "version": "3.7.4"
    },
    "colab": {
      "name": "HowToBuildABaseline.ipynb",
      "provenance": []
    }
  },
  "cells": [
    {
      "cell_type": "markdown",
      "metadata": {
        "id": "iEMO5eqPTwp_"
      },
      "source": [
        "# Getting started with #MeliDataChallenge"
      ]
    },
    {
      "cell_type": "code",
      "metadata": {
        "id": "3_Wdaed0TwqB"
      },
      "source": [
        "#Import modules\n",
        "import gzip\n",
        "import json\n",
        "import gc\n",
        "import math\n",
        "import random\n",
        "\n",
        "from collections import Counter, defaultdict\n",
        "from tqdm.notebook import tqdm\n",
        "from pathlib import Path\n",
        "from sklearn.model_selection import train_test_split\n"
      ],
      "execution_count": null,
      "outputs": []
    },
    {
      "cell_type": "code",
      "metadata": {
        "id": "DbX6NX3STwqC"
      },
      "source": [
        "#Auxiliary function\n",
        "def jl_to_list(fname):\n",
        "    output = []\n",
        "    with gzip.open(fname, 'rb') as f:\n",
        "        for line in f:\n",
        "            output.append(json.loads(line))\n",
        "    return output"
      ],
      "execution_count": null,
      "outputs": []
    },
    {
      "cell_type": "markdown",
      "metadata": {
        "id": "C9YIoPJrTwqC"
      },
      "source": [
        "#### Here specify the path where you data is located"
      ]
    },
    {
      "cell_type": "code",
      "metadata": {
        "id": "5BlfsycxTwqC"
      },
      "source": [
        "path = Path('data')"
      ],
      "execution_count": null,
      "outputs": []
    },
    {
      "cell_type": "markdown",
      "metadata": {
        "id": "-fTWE4nnTwqD"
      },
      "source": [
        "#### Load train data"
      ]
    },
    {
      "cell_type": "code",
      "metadata": {
        "id": "Ebh01NGYTwqD"
      },
      "source": [
        "samples = 50000 ### Only a sample\n",
        "rows = jl_to_list(path/'train_dataset.jl.gz')\n",
        "if samples:\n",
        "    rows = rows[:samples]\n",
        "    \n",
        "rows_train, rows_test= train_test_split(rows, test_size=0.2, random_state=42)"
      ],
      "execution_count": null,
      "outputs": []
    },
    {
      "cell_type": "markdown",
      "metadata": {
        "id": "nsmQxqxvTwqD"
      },
      "source": [
        "#### Load item metadata"
      ]
    },
    {
      "cell_type": "code",
      "metadata": {
        "id": "OrM7iEupTwqD"
      },
      "source": [
        "item_data = jl_to_list(path/'item_data.jl.gz')\n",
        "metadata = {x['item_id']:x for x in item_data} #We create a dictionary to access easily access the item metadata\n",
        "all_items = list(metadata.keys())"
      ],
      "execution_count": null,
      "outputs": []
    },
    {
      "cell_type": "markdown",
      "metadata": {
        "id": "sG_ubDyETwqD"
      },
      "source": [
        "# Different approaches to build a baseline model..."
      ]
    },
    {
      "cell_type": "markdown",
      "metadata": {
        "id": "dnSe9wggTwqE"
      },
      "source": [
        "### 1) Tops items of the most visited domain  \n",
        "\n",
        "Here the idea is the following: We find out which is the most visited domain by the user, and the we recommend the top selling items of that domain. \n"
      ]
    },
    {
      "cell_type": "markdown",
      "metadata": {
        "id": "jvlXRrCSTwqE"
      },
      "source": [
        "First we generate a dict of the form: {'domain': {'item_id': no. of purchases } }.\n",
        "\n",
        "This is the \"learning\" stage of this simple model (that's why we do it only with the train data!).\n"
      ]
    },
    {
      "cell_type": "code",
      "metadata": {
        "id": "uEyA1EqwTwqE",
        "outputId": "58d5b67b-9b06-411f-9802-659c5a105207",
        "colab": {
          "referenced_widgets": [
            "b0334cdcb35142748f3b2f5b415fcd87"
          ]
        }
      },
      "source": [
        "sales_x_domain = defaultdict(lambda: defaultdict(int))\n",
        "\n",
        "for row in tqdm(rows_train):\n",
        "    #viewed = [ev['event_info'] for ev in row['user_history'] if ev['event_type']=='view']\n",
        "    items = [row['item_bought']]\n",
        "    for item in items:\n",
        "        domain = metadata[item]['domain_id']\n",
        "        sales_x_domain[domain][item]+=1"
      ],
      "execution_count": null,
      "outputs": [
        {
          "output_type": "display_data",
          "data": {
            "application/vnd.jupyter.widget-view+json": {
              "model_id": "b0334cdcb35142748f3b2f5b415fcd87",
              "version_major": 2,
              "version_minor": 0
            },
            "text/plain": [
              "HBox(children=(FloatProgress(value=0.0, max=40000.0), HTML(value='')))"
            ]
          },
          "metadata": {
            "tags": []
          }
        },
        {
          "output_type": "stream",
          "text": [
            "\n"
          ],
          "name": "stdout"
        }
      ]
    },
    {
      "cell_type": "markdown",
      "metadata": {
        "id": "RdlvpC1GTwqG"
      },
      "source": [
        "Then we define some auxiliary functions for making the predictions"
      ]
    },
    {
      "cell_type": "code",
      "metadata": {
        "id": "jEd4rPUsTwqH"
      },
      "source": [
        "def domains_visited(row, max_views=15):\n",
        "    \"\"\"\n",
        "    For a given user story (row), returns a Counter \n",
        "    of the domains visited by the user.\n",
        "    \"\"\"\n",
        "    \n",
        "    domains = Counter()\n",
        "    \n",
        "    viewed = [ev['event_info'] for ev in row['user_history'] \n",
        "              if ev['event_type']=='view']\n",
        "    \n",
        "    if len(viewed) > max_views:\n",
        "        viewed = viewed[:15]\n",
        "        \n",
        "    for item in viewed:\n",
        "        domain = metadata[item]['domain_id']\n",
        "        domains[domain] += 1\n",
        "        \n",
        "    return domains"
      ],
      "execution_count": null,
      "outputs": []
    },
    {
      "cell_type": "code",
      "metadata": {
        "id": "aWbI6tPKTwqH",
        "outputId": "6b7bb3a9-b47e-4605-ec7e-c0e5ab5e2e94"
      },
      "source": [
        "domains_visited(rows_train[3])"
      ],
      "execution_count": null,
      "outputs": [
        {
          "output_type": "execute_result",
          "data": {
            "text/plain": [
              "Counter({'MLB-LEARNING_TOY_LAPTOPS': 1,\n",
              "         'MLB-VEHICLE_LED_BULBS': 6,\n",
              "         'MLB-AUTOMOTIVE_SIDE_VIEW_MIRRORS': 2,\n",
              "         'MLB-MOTORCYCLE_REARVIEW_MIRRORS': 2})"
            ]
          },
          "metadata": {
            "tags": []
          },
          "execution_count": 8
        }
      ]
    },
    {
      "cell_type": "code",
      "metadata": {
        "id": "M8l79UV6TwqH"
      },
      "source": [
        "def top_items(domain,k=10):\n",
        "    \"\"\"\n",
        "    Given the sales_x_domain info and a certain domain, \n",
        "    returns the top k selling items in that domain.\n",
        "    \"\"\"\n",
        "    \n",
        "    top = sales_x_domain[domain]\n",
        "    top = Counter(top)\n",
        "    top = top.most_common(k)\n",
        "    \n",
        "    return [x[0] for x in top]"
      ],
      "execution_count": null,
      "outputs": []
    },
    {
      "cell_type": "code",
      "metadata": {
        "id": "cU_JzR7MTwqH",
        "outputId": "9fc4594b-c14b-4cc9-acb5-0f363c7ea1fc"
      },
      "source": [
        "top_items('MLB-TOWEL_SETS')"
      ],
      "execution_count": null,
      "outputs": [
        {
          "output_type": "execute_result",
          "data": {
            "text/plain": [
              "[1180390, 1595048, 2548103, 483864]"
            ]
          },
          "metadata": {
            "tags": []
          },
          "execution_count": 10
        }
      ]
    },
    {
      "cell_type": "code",
      "metadata": {
        "id": "YedEpAhdTwqH"
      },
      "source": [
        "def top_by_best_domain(row, k=10):\n",
        "    \"\"\"\n",
        "    For a given user story (row) it returns the top k selling\n",
        "    items of the most visited domain.\n",
        "    \"\"\"\n",
        "    \n",
        "    views = [ev['event_info'] for ev in row['user_history'] if ev['event_type']=='view']\n",
        "    if len(views) == 0:\n",
        "        return random.choices(all_items, k=k)\n",
        "    domain = domains_visited(row)    \n",
        "    domain = domain.most_common(1)[0][0]\n",
        "    return top_items(domain, k=k)"
      ],
      "execution_count": null,
      "outputs": []
    },
    {
      "cell_type": "code",
      "metadata": {
        "scrolled": true,
        "id": "S5m-10UnTwqI",
        "outputId": "d8b73cdf-0d11-484a-f867-75ca6e1907b0"
      },
      "source": [
        "top_by_best_domain(rows_train[0])"
      ],
      "execution_count": null,
      "outputs": [
        {
          "output_type": "execute_result",
          "data": {
            "text/plain": [
              "[1846525, 457610, 517507]"
            ]
          },
          "metadata": {
            "tags": []
          },
          "execution_count": 12
        }
      ]
    },
    {
      "cell_type": "markdown",
      "metadata": {
        "id": "0PmFeySVTwqI"
      },
      "source": [
        "Now we are ready to generate our recommendations for the test rows"
      ]
    },
    {
      "cell_type": "code",
      "metadata": {
        "scrolled": true,
        "id": "VSKPHW19TwqI",
        "outputId": "9507e5c6-b867-487f-c5f4-4f4542a72a95",
        "colab": {
          "referenced_widgets": [
            "6562fed435ae46909aff2944bdbd59f9"
          ]
        }
      },
      "source": [
        "y_pred = []\n",
        "for row in tqdm(rows_test):\n",
        "    recom = top_by_best_domain(row)\n",
        "    y_pred.append(recom)"
      ],
      "execution_count": null,
      "outputs": [
        {
          "output_type": "display_data",
          "data": {
            "application/vnd.jupyter.widget-view+json": {
              "model_id": "6562fed435ae46909aff2944bdbd59f9",
              "version_major": 2,
              "version_minor": 0
            },
            "text/plain": [
              "HBox(children=(FloatProgress(value=0.0, max=10000.0), HTML(value='')))"
            ]
          },
          "metadata": {
            "tags": []
          }
        },
        {
          "output_type": "stream",
          "text": [
            "\n"
          ],
          "name": "stdout"
        }
      ]
    },
    {
      "cell_type": "markdown",
      "metadata": {
        "id": "ZTpgziwFTwqI"
      },
      "source": [
        "We extract the target value for the test rows"
      ]
    },
    {
      "cell_type": "code",
      "metadata": {
        "id": "oKGoabSjTwqI"
      },
      "source": [
        "y_true = [row['item_bought'] for row in rows_test]"
      ],
      "execution_count": null,
      "outputs": []
    },
    {
      "cell_type": "markdown",
      "metadata": {
        "id": "F7aogHfXTwqI"
      },
      "source": [
        "Measure performance"
      ]
    },
    {
      "cell_type": "code",
      "metadata": {
        "id": "knk_3SoCTwqI",
        "outputId": "f503954e-03be-4967-e260-191f666a06b2"
      },
      "source": [
        "from challenge_metric import ndcg_score\n",
        "score = ndcg_score(y_true, y_pred, item_data,n_predictions=10)\n",
        "print(f'Your score is: {score}')"
      ],
      "execution_count": null,
      "outputs": [
        {
          "output_type": "stream",
          "text": [
            "Your score is: 0.07249757471885276\n"
          ],
          "name": "stdout"
        }
      ]
    },
    {
      "cell_type": "markdown",
      "metadata": {
        "id": "d4yYmd4CTwqJ"
      },
      "source": [
        "### 2) Last viewed items  \n",
        "\n",
        "We simply recommed the last items visited by the user\n"
      ]
    },
    {
      "cell_type": "code",
      "metadata": {
        "id": "AbaVV99KTwqJ"
      },
      "source": [
        "def last_viewed(row, k=10):\n",
        "    \"\"\"\n",
        "    Given a user story (row) it extracts the last k unique items visited.\n",
        "    If there are less than k, it fills the remaining spots with random items.\n",
        "    \"\"\"\n",
        "    viewed = [ev for ev in row['user_history'] if ev['event_type']=='view']\n",
        "    viewed = sorted(viewed, key=lambda x: x['event_timestamp'], reverse=True)\n",
        "    viewed = [ev['event_info'] for ev in viewed]\n",
        "    recom = []\n",
        "    for item in viewed:\n",
        "        if item not in recom:\n",
        "            recom.append(item)\n",
        "            \n",
        "    if len(recom) > 10:\n",
        "        recom = recom[:10]\n",
        "    \n",
        "    if len(recom) == 10:\n",
        "        return recom\n",
        "    \n",
        "    k = 10 - len(recom)\n",
        "    relleno = random.choices(all_items, k=k)   \n",
        "    \n",
        "    return recom + relleno"
      ],
      "execution_count": null,
      "outputs": []
    },
    {
      "cell_type": "code",
      "metadata": {
        "scrolled": true,
        "id": "9Te33cjpTwqJ",
        "outputId": "b08f59ac-f1be-46e1-b4d6-530c4d991c8e"
      },
      "source": [
        "last_viewed(rows[0])"
      ],
      "execution_count": null,
      "outputs": [
        {
          "output_type": "execute_result",
          "data": {
            "text/plain": [
              "[2490000,\n",
              " 96755,\n",
              " 96103,\n",
              " 1605110,\n",
              " 1098704,\n",
              " 2722263,\n",
              " 2850363,\n",
              " 2711975,\n",
              " 2293666,\n",
              " 1502408]"
            ]
          },
          "metadata": {
            "tags": []
          },
          "execution_count": 17
        }
      ]
    },
    {
      "cell_type": "markdown",
      "metadata": {
        "id": "nqvT8ON9TwqJ"
      },
      "source": [
        "Now we are ready to generate the recommendations"
      ]
    },
    {
      "cell_type": "markdown",
      "metadata": {
        "id": "GbCGg-TfTwqJ"
      },
      "source": [
        "y_pred = []\n",
        "for row in tqdm(rows_test):\n",
        "    recom = last_viewed(row)\n",
        "    y_pred.append(recom)"
      ]
    },
    {
      "cell_type": "markdown",
      "metadata": {
        "id": "b-rfRpLuTwqJ"
      },
      "source": [
        "Measure performance"
      ]
    },
    {
      "cell_type": "code",
      "metadata": {
        "id": "gmxnExyaTwqJ",
        "outputId": "6f45b1e9-3fc1-4194-94bc-d6b79a6b4169"
      },
      "source": [
        "from challenge_metric import ndcg_score\n",
        "score = ndcg_score(y_true, y_pred, item_data,n_predictions=10)\n",
        "print(f'Your score is: {score}')"
      ],
      "execution_count": null,
      "outputs": [
        {
          "output_type": "stream",
          "text": [
            "Your score is: 0.07249757471885276\n"
          ],
          "name": "stdout"
        }
      ]
    },
    {
      "cell_type": "markdown",
      "metadata": {
        "id": "GMHz7TONTwqJ"
      },
      "source": [
        "### 3) Views-purchases\n",
        "\n",
        "The idea here is to predict what most users, who visited the very same item that a certain user, ended up buying .\n",
        "\n",
        "First we build a dictionary that maps item viewed with item bought and their frequency.\n",
        "\n",
        "This is the \"learning\" stage of this simple model (that's why we do it only with the train data!)."
      ]
    },
    {
      "cell_type": "code",
      "metadata": {
        "id": "_mNqRZiETwqJ",
        "outputId": "55d06dd5-9b79-459a-ccb1-1af482acd13d",
        "colab": {
          "referenced_widgets": [
            "22e113a2c2dd457b82e2e22c0d8b4f40"
          ]
        }
      },
      "source": [
        "views_purchases = defaultdict(lambda: defaultdict(int))\n",
        "for row in tqdm(rows_train):\n",
        "    for ev in row['user_history']:\n",
        "        if ev['event_type']=='view':\n",
        "            views_purchases[int(ev['event_info'])][int(row['item_bought'])]+=1"
      ],
      "execution_count": null,
      "outputs": [
        {
          "output_type": "display_data",
          "data": {
            "application/vnd.jupyter.widget-view+json": {
              "model_id": "22e113a2c2dd457b82e2e22c0d8b4f40",
              "version_major": 2,
              "version_minor": 0
            },
            "text/plain": [
              "HBox(children=(FloatProgress(value=0.0, max=40000.0), HTML(value='')))"
            ]
          },
          "metadata": {
            "tags": []
          }
        },
        {
          "output_type": "stream",
          "text": [
            "\n"
          ],
          "name": "stdout"
        }
      ]
    },
    {
      "cell_type": "code",
      "metadata": {
        "id": "RBRKuf4ATwqK"
      },
      "source": [
        "def get_item_scores(row):\n",
        "    \"\"\"\n",
        "    Given a user history (row) returns a counter of the items purchased \n",
        "    for the items viewed by the user\n",
        "    \"\"\"\n",
        "    item_scores = defaultdict(int)\n",
        "    for ev in row['user_history']:\n",
        "        if ev['event_type']=='view':\n",
        "            for k,v in views_purchases[int(ev['event_info'])].items():\n",
        "                item_scores[k]+=v\n",
        "\n",
        "    return Counter(item_scores)"
      ],
      "execution_count": null,
      "outputs": []
    },
    {
      "cell_type": "code",
      "metadata": {
        "id": "b4W5PbOfTwqK"
      },
      "source": [
        "def view_purchase_recom(row):\n",
        "    \"\"\"\n",
        "    Given a user history (row) returns the top 10 items purchased \n",
        "    for the items viewed by the user. If there are less than k, \n",
        "    it fill the remaining spots with random items.\n",
        "    \n",
        "    \"\"\"\n",
        "    reco = []\n",
        "    scores = get_item_scores(row)\n",
        "    most_common = scores.most_common()\n",
        "    for item, score in most_common:\n",
        "        reco.append(item)\n",
        "        if len(reco) == 10:\n",
        "            return reco\n",
        "    \n",
        "    k = 10 - len(reco)    \n",
        "    relleno = random.choices(all_items, k=k)   \n",
        "    \n",
        "    return reco + relleno\n",
        "       "
      ],
      "execution_count": null,
      "outputs": []
    },
    {
      "cell_type": "markdown",
      "metadata": {
        "id": "TfY9kOf9TwqK"
      },
      "source": [
        "Now we are ready to generate our recommendations for the test rows"
      ]
    },
    {
      "cell_type": "code",
      "metadata": {
        "id": "S_4HCFR5TwqK",
        "outputId": "8265986f-5c2c-4721-a1d5-bd4009119968",
        "colab": {
          "referenced_widgets": [
            "e336b3df50544cc587bb0e71ba26f47a"
          ]
        }
      },
      "source": [
        "y_pred = []\n",
        "for row in tqdm(rows_test):\n",
        "    recom = view_purchase_recom(row)\n",
        "    y_pred.append(recom)"
      ],
      "execution_count": null,
      "outputs": [
        {
          "output_type": "display_data",
          "data": {
            "application/vnd.jupyter.widget-view+json": {
              "model_id": "e336b3df50544cc587bb0e71ba26f47a",
              "version_major": 2,
              "version_minor": 0
            },
            "text/plain": [
              "HBox(children=(FloatProgress(value=0.0, max=10000.0), HTML(value='')))"
            ]
          },
          "metadata": {
            "tags": []
          }
        },
        {
          "output_type": "stream",
          "text": [
            "\n"
          ],
          "name": "stdout"
        }
      ]
    },
    {
      "cell_type": "markdown",
      "metadata": {
        "id": "Re88D29ZTwqK"
      },
      "source": [
        "Measure performance"
      ]
    },
    {
      "cell_type": "code",
      "metadata": {
        "id": "bsyayUseTwqK",
        "outputId": "95918907-163b-4764-ee3f-c3c20339496d"
      },
      "source": [
        "from challenge_metric import ndcg_score\n",
        "score = ndcg_score(y_true, y_pred, item_data,n_predictions=10)\n",
        "print(f'Your score is: {score}')"
      ],
      "execution_count": null,
      "outputs": [
        {
          "output_type": "stream",
          "text": [
            "Your score is: 0.02111666387024183\n"
          ],
          "name": "stdout"
        }
      ]
    },
    {
      "cell_type": "markdown",
      "metadata": {
        "id": "X1ZDbZv8TwqK"
      },
      "source": [
        "#### How could these baselines be improved?\n",
        "\n",
        "* We could combine different baselines, using them sequentially to fill the recommendations.\n",
        "\n",
        "* We could also make the different baselines vote and choose with some algotithm each vote's weight.\n",
        "\n",
        "* Use these baselines as generatoros for a more complex model signal-vs-noise style."
      ]
    },
    {
      "cell_type": "code",
      "metadata": {
        "id": "bix6qsVTTwqK"
      },
      "source": [
        ""
      ],
      "execution_count": null,
      "outputs": []
    }
  ]
}